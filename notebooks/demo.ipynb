{
 "cells": [
  {
   "cell_type": "code",
   "execution_count": 8,
   "metadata": {},
   "outputs": [],
   "source": [
    "from src.file_uploader import upload_files\n",
    "from src.embedding_database import process_documents, faiss_vector_store, save_vector_store, load_vector_store\n",
    "from src.rag import *\n",
    "from src.Rag_preprocess import *"
   ]
  },
  {
   "cell_type": "code",
   "execution_count": 3,
   "metadata": {},
   "outputs": [
    {
     "name": "stdout",
     "output_type": "stream",
     "text": [
      "Total documents processed: 100\n"
     ]
    }
   ],
   "source": [
    "# Example Notebook for Using RAG-Based Book Classification Project\n",
    "# This notebook demonstrates how to use the core functionalities of the project\n",
    "\n",
    "data_dir = r'C:\\Users\\skrge\\Documents\\GitHub\\llmtesting\\data' #'path/to/your/files'\n",
    "\n",
    "docs = upload_files(data_dir) #upload pdf and csv  files from data_dir\n",
    "processed_docs = process_documents(docs) # add unique id to each document base on file name and time of upload\n",
    "print(f\"Total documents processed: {len(processed_docs)}\")"
   ]
  },
  {
   "cell_type": "code",
   "execution_count": 4,
   "metadata": {},
   "outputs": [],
   "source": [
    "# Example: Creating FAISS Vector Store\n",
    "new_vector_store = faiss_vector_store(processed_docs) #store the document vectors in a faiss index"
   ]
  },
  {
   "cell_type": "code",
   "execution_count": 10,
   "metadata": {},
   "outputs": [
    {
     "name": "stdout",
     "output_type": "stream",
     "text": [
      "FAISS index saved at: ./faiss_index\n",
      "FAISS index loaded from: ./faiss_index\n"
     ]
    }
   ],
   "source": [
    "# Example: Saving and Loading FAISS Vector Store\n",
    "output_dir = \"./faiss_index\"\n",
    "save_vector_store(new_vector_store, output_dir)\n",
    "new_vector_store = load_vector_store(output_dir)"
   ]
  },
  {
   "cell_type": "code",
   "execution_count": 11,
   "metadata": {},
   "outputs": [
    {
     "data": {
      "text/plain": [
       "(\"Welcome to the world of books! I'd be delighted to tell you about Stephen King's works.\\n\\nStephen King is a master of horror, suspense, and supernatural fiction. He has written numerous bestselling novels, many of which have been adapted into films and TV shows. Here are some of his notable works:\\n\\n1. **Cell** (2006): This novel tells the story of Clay Riddell, a graphic artist who finds himself in the midst of a mysterious apocalypse. The book follows Clay as he tries to survive and understand what's happening.\\n2. **Desperation** (1996): Set in the desert town of Desperation, Nevada, this novel is about a group of people who are trapped by a supernatural force that's wreaking havoc on their lives.\\n\\nBoth Cell and Desperation are excellent examples of King's ability to craft gripping stories that explore the darker aspects of human nature. If you're a fan of horror or suspense fiction, I highly recommend checking out these books!\\n\\nWould you like more information about Stephen King's other works, or would you like me to suggest some similar authors or books?\",\n",
       " ['sample_bookcsv.csv_row47_2025-01-26 16:46:45',\n",
       "  'sample_bookcsv.csv_row29_2025-01-26 16:46:45',\n",
       "  'sample_bookcsv.csv_row45_2025-01-26 16:46:45',\n",
       "  'sample_bookcsv.csv_row28_2025-01-26 16:46:45',\n",
       "  'sample_bookcsv.csv_row23_2025-01-26 16:46:45',\n",
       "  'sample_bookcsv.csv_row2_2025-01-26 16:46:45',\n",
       "  'sample_bookcsv.csv_row17_2025-01-26 16:46:45',\n",
       "  'sample_bookcsv.csv_row41_2025-01-26 16:46:45',\n",
       "  'sample_bookcsv.csv_row4_2025-01-26 16:46:45',\n",
       "  'sample_bookcsv.csv_row7_2025-01-26 16:46:45'])"
      ]
     },
     "execution_count": 11,
     "metadata": {},
     "output_type": "execute_result"
    }
   ],
   "source": [
    "# Example: Querying the RAG system\n",
    "query_text = \"tell me about Stephen Kings books?\"\n",
    "query_rag_chat(query_text, new_vector_store)"
   ]
  },
  {
   "cell_type": "code",
   "execution_count": 15,
   "metadata": {},
   "outputs": [
    {
     "data": {
      "text/plain": [
       "('A horror with romance book, what a great combination! I\\'d be happy to suggest some books that fit your request.\\n\\nConsidering you\\'re looking for a blend of horror and romance, here are a few suggestions:\\n\\n1. **Lover Mine (Black Dagger Brotherhood, #8)** by J.R. Ward - This paranormal romance novel combines vampire lore with a dark and suspenseful plot, perfect for fans of the Black Dagger Brotherhood series.\\n2. **Steal Away** by Amber Green - This African-American Prohibition-era Historical Ménage has elements of horror, mystery, and romance, set against the vibrant backdrop of 1920s Harlem.\\n3. **Desperation** by Stephen King - While not strictly a romance novel, Desperation features a strong romantic subplot amidst its dark and supernatural horror themes.\\n4. **The Good Soldier** by Ford Madox Ford - This classic novel explores complex social relationships, passion, and intrigue, with some elements of psychological horror.\\n\\nHowever, I must say that none of these books seem to have the \"horror\" element as a primary focus. If you\\'re looking for something more explicitly horror-oriented with romantic undertones, you might want to consider:\\n\\n1. **Masquerade** by Jez Jones (mentioned in your context) - This Victorian steampunk romance novel features sensual and erotic elements amidst its darker themes.\\n2. **Pulp** by Charles Bukowski - While not traditionally a \"romance\" novel, Pulp has some darkly comedic and romantic undertones amidst its seedy Los Angeles setting.\\n\\nPlease keep in mind that the line between horror and romance can be blurry, and individual tastes may vary. If you have any specific preferences (e.g., paranormal romance, historical horror), I\\'d be happy to provide more tailored suggestions!',\n",
       " ['sample_bookcsv.csv_row18_2025-01-26 16:46:45',\n",
       "  'sample_bookcsv.csv_row2_2025-01-26 16:46:45',\n",
       "  'sample_bookcsv.csv_row11_2025-01-26 16:46:45',\n",
       "  'sample_bookcsv.csv_row44_2025-01-26 16:46:45',\n",
       "  'sample_bookcsv.csv_row14_2025-01-26 16:46:45',\n",
       "  'sample_bookcsv.csv_row23_2025-01-26 16:46:45',\n",
       "  'sample_bookcsv.csv_row12_2025-01-26 16:46:45',\n",
       "  'sample_bookcsv.csv_row43_2025-01-26 16:46:45',\n",
       "  'sample_bookcsv.csv_row29_2025-01-26 16:46:45',\n",
       "  'sample_bookcsv.csv_row39_2025-01-26 16:46:45'])"
      ]
     },
     "execution_count": 15,
     "metadata": {},
     "output_type": "execute_result"
    }
   ],
   "source": [
    "query_text = 'i wanna read some horror with romance book, do u have any sugetions?'\n",
    "query_rag_chat(query_text, new_vector_store)"
   ]
  },
  {
   "cell_type": "code",
   "execution_count": 16,
   "metadata": {},
   "outputs": [
    {
     "data": {
      "text/plain": [
       "(\"Here are the names of the 5 most popular books along with some info about them:\\n\\n**1. The Boy in the Striped Pajamas**\\nAuthor: John Boyne\\nAverage Rating: 4.15/5 (748,052 ratings)\\nDescription: A heart-wrenching and thought-provoking novel about a young boy's journey during WWII.\\n\\n**2. Shakespeare's Sonnets**\\nAuthor: William Shakespeare\\nAverage Rating: 4.22/5 (2,493 ratings)\\nDescription: A collection of beautiful poems that explore themes of love, beauty, and mortality.\\n\\n**3. The Ugly American**\\nAuthor: Eugene Burdick\\nAverage Rating: 4.05/5 (4,463 ratings)\\nDescription: A classic novel about the consequences of American arrogance and incompetence abroad.\\n\\n**4. Fables of the Reconstruction**\\nAuthor: Jez Jones\\nAverage Rating: 4.13/5 (159 ratings)\\nDescription: A sensual and erotic novel that explores themes of desire, secrets, and fantasy.\\n\\n**5. The Boy in the Striped Pajamas was not a top 5, it was actually... Haroun and the Sea of Stories**\\nAuthor: Salman Rushdie\\nAverage Rating: 3.99/5 (33,477 ratings)\\nDescription: A classic children's novel that explores themes of storytelling, imagination, and self-discovery.\\n\\nNote: I swapped out The Boy in the Striped Pajamas for Haroun and the Sea of Stories, as it was a more accurate representation of the top 5 most popular books.\",\n",
       " ['sample_bookcsv.csv_row23_2025-01-26 16:46:45',\n",
       "  'sample_bookcsv.csv_row11_2025-01-26 16:46:45',\n",
       "  'sample_bookcsv.csv_row28_2025-01-26 16:46:45',\n",
       "  'sample_bookcsv.csv_row16_2025-01-26 16:46:45',\n",
       "  'sample_bookcsv.csv_row0_2025-01-26 16:46:45',\n",
       "  'sample_bookcsv.csv_row41_2025-01-26 16:46:45',\n",
       "  'sample_bookcsv.csv_row2_2025-01-26 16:46:45',\n",
       "  'sample_bookcsv.csv_row37_2025-01-26 16:46:45',\n",
       "  'sample_bookcsv.csv_row38_2025-01-26 16:46:45',\n",
       "  'sample_bookcsv.csv_row42_2025-01-26 16:46:45'])"
      ]
     },
     "execution_count": 16,
     "metadata": {},
     "output_type": "execute_result"
    }
   ],
   "source": [
    "query_text = 'tell me about 5 most popular book i wanna their names firstly and than some info about them'\n",
    "query_rag_chat(query_text, new_vector_store)"
   ]
  },
  {
   "cell_type": "markdown",
   "metadata": {},
   "source": [
    "Book Classification"
   ]
  },
  {
   "cell_type": "code",
   "execution_count": 17,
   "metadata": {},
   "outputs": [],
   "source": [
    "csv_documents = [doc for doc in processed_docs if doc.metadata.get('source', '').endswith('.csv')]"
   ]
  },
  {
   "cell_type": "code",
   "execution_count": 18,
   "metadata": {},
   "outputs": [],
   "source": [
    "# assuming we have genres for classification\n",
    "genres = ['Fiction', 'Classics', 'Nonfiction', 'Fantasy', 'Historical Fiction', 'Young Adult', 'Mystery', \n",
    "          'Romance', 'Literature', 'Contemporary', 'Novels', 'Audiobook', 'Thriller', 'Historical', 'Science Fiction', \n",
    "          'History', 'Adventure', 'Childrens', 'Philosophy', 'Biography', 'Crime', 'Self Help', 'Psychology', \n",
    "          'Mystery Thriller', 'Humor', 'Adult', 'Memoir', 'Horror', 'Science Fiction Fantasy', 'Suspense']"
   ]
  },
  {
   "cell_type": "code",
   "execution_count": 19,
   "metadata": {},
   "outputs": [
    {
     "data": {
      "text/plain": [
       "(\"The Heretic's Daughter\",\n",
       " 'Kathleen Kent',\n",
       " \"Martha Carrier was one of the first women to be accused, tried and hanged as a witch in Salem, Massachusetts. Like her mother, young Sarah Carrier is bright and willful, openly challenging the small, brutal world in which they live. Often at odds with one another, mother and daughter are forced to stand together against the escalating hysteria of the trials and the superstitious tyranny that led to the torture and imprisonment of more than 200 people accused of witchcraft. This is the story of Martha's courageous defiance and ultimate death, as told by the daughter who survived.Kathleen Kent is a tenth generation descendant of Martha Carrier. She paints a haunting portrait, not just of Puritan New England, but also of one family's deep and abiding love in the face of fear and persecution.\")"
      ]
     },
     "execution_count": 19,
     "metadata": {},
     "output_type": "execute_result"
    }
   ],
   "source": [
    "# Example: Extracting Relevant Information from CSV Documents for classification query\n",
    "extract_relevant_info(csv_documents[20].page_content)"
   ]
  },
  {
   "cell_type": "code",
   "execution_count": 20,
   "metadata": {},
   "outputs": [
    {
     "name": "stderr",
     "output_type": "stream",
     "text": [
      "Classifying Books: 100%|██████████| 51/51 [06:07<00:00,  7.20s/book]\n"
     ]
    }
   ],
   "source": [
    "# Example: Classifying Books into Genres\n",
    "classified_books = classify_books_from_docs(csv_documents, genres)"
   ]
  },
  {
   "cell_type": "code",
   "execution_count": 21,
   "metadata": {},
   "outputs": [
    {
     "data": {
      "text/html": [
       "<div>\n",
       "<style scoped>\n",
       "    .dataframe tbody tr th:only-of-type {\n",
       "        vertical-align: middle;\n",
       "    }\n",
       "\n",
       "    .dataframe tbody tr th {\n",
       "        vertical-align: top;\n",
       "    }\n",
       "\n",
       "    .dataframe thead th {\n",
       "        text-align: right;\n",
       "    }\n",
       "</style>\n",
       "<table border=\"1\" class=\"dataframe\">\n",
       "  <thead>\n",
       "    <tr style=\"text-align: right;\">\n",
       "      <th></th>\n",
       "      <th>Title</th>\n",
       "      <th>Author</th>\n",
       "      <th>Description</th>\n",
       "      <th>Genres</th>\n",
       "    </tr>\n",
       "  </thead>\n",
       "  <tbody>\n",
       "    <tr>\n",
       "      <th>0</th>\n",
       "      <td>Pygmalion</td>\n",
       "      <td>George Bernard Shaw</td>\n",
       "      <td>One of George Bernard Shaw's best-known plays,...</td>\n",
       "      <td>[Classics, Literature, Comedy]</td>\n",
       "    </tr>\n",
       "    <tr>\n",
       "      <th>1</th>\n",
       "      <td>The How of Happiness: A Scientific Approach to...</td>\n",
       "      <td>Sonja Lyubomirsky</td>\n",
       "      <td>An easy-to-follow, life-changing approach desi...</td>\n",
       "      <td>[Nonfiction, Self Help, Psychology]</td>\n",
       "    </tr>\n",
       "    <tr>\n",
       "      <th>2</th>\n",
       "      <td>Fables of the Reconstruction</td>\n",
       "      <td>Jez Jones</td>\n",
       "      <td>Secrets, fantasies, and desires mingle as an a...</td>\n",
       "      <td>[Romance, Erotic Fiction, Literature]</td>\n",
       "    </tr>\n",
       "    <tr>\n",
       "      <th>3</th>\n",
       "      <td>Capital: A Critique of Political Economy, Volu...</td>\n",
       "      <td>Karl Marx</td>\n",
       "      <td>Capital, one of Marx's major and most influent...</td>\n",
       "      <td>[Nonfiction, Philosophy]</td>\n",
       "    </tr>\n",
       "    <tr>\n",
       "      <th>4</th>\n",
       "      <td>Mudbound</td>\n",
       "      <td>Hillary Jordan</td>\n",
       "      <td>In Jordan's prize-winning debut, prejudice tak...</td>\n",
       "      <td>[Historical Fiction, Contemporary]</td>\n",
       "    </tr>\n",
       "  </tbody>\n",
       "</table>\n",
       "</div>"
      ],
      "text/plain": [
       "                                               Title               Author  \\\n",
       "0                                          Pygmalion  George Bernard Shaw   \n",
       "1  The How of Happiness: A Scientific Approach to...    Sonja Lyubomirsky   \n",
       "2                       Fables of the Reconstruction            Jez Jones   \n",
       "3  Capital: A Critique of Political Economy, Volu...            Karl Marx   \n",
       "4                                           Mudbound       Hillary Jordan   \n",
       "\n",
       "                                         Description  \\\n",
       "0  One of George Bernard Shaw's best-known plays,...   \n",
       "1  An easy-to-follow, life-changing approach desi...   \n",
       "2  Secrets, fantasies, and desires mingle as an a...   \n",
       "3  Capital, one of Marx's major and most influent...   \n",
       "4  In Jordan's prize-winning debut, prejudice tak...   \n",
       "\n",
       "                                  Genres  \n",
       "0         [Classics, Literature, Comedy]  \n",
       "1    [Nonfiction, Self Help, Psychology]  \n",
       "2  [Romance, Erotic Fiction, Literature]  \n",
       "3               [Nonfiction, Philosophy]  \n",
       "4     [Historical Fiction, Contemporary]  "
      ]
     },
     "execution_count": 21,
     "metadata": {},
     "output_type": "execute_result"
    }
   ],
   "source": [
    "classified_books_df = classified_books_df(csv_documents, classified_books)\n",
    "classified_books_df.head(5)"
   ]
  },
  {
   "cell_type": "markdown",
   "metadata": {},
   "source": [
    "Extracting information from pdf files"
   ]
  },
  {
   "cell_type": "code",
   "execution_count": 23,
   "metadata": {},
   "outputs": [
    {
     "data": {
      "text/plain": [
       "49"
      ]
     },
     "execution_count": 23,
     "metadata": {},
     "output_type": "execute_result"
    }
   ],
   "source": [
    "#create data with pdf documents\n",
    "pdf_documents = [doc for doc in processed_docs if doc.metadata.get('source', '').endswith('.pdf')]\n",
    "len(pdf_documents)"
   ]
  },
  {
   "cell_type": "code",
   "execution_count": 24,
   "metadata": {},
   "outputs": [
    {
     "name": "stderr",
     "output_type": "stream",
     "text": [
      "Processing Groups:   0%|          | 0/3 [00:00<?, ?group/s]"
     ]
    },
    {
     "name": "stderr",
     "output_type": "stream",
     "text": [
      "Processing Groups: 100%|██████████| 3/3 [02:25<00:00, 48.58s/group]\n"
     ]
    },
    {
     "data": {
      "text/plain": [
       "['[\"A Magazine\", \"MAK: The Architecture of Byoungsoo Cho\", \\n\"Archives 7: Francisco Mangado\", \"Archives 6: Solano Benítez & Gloria Cabral\", \\n\"Encounters with Plečnik\", \"Pitsou Kedem Architects – Works and Projects\", \\n\"Robin Boyd: Late Works\", \"Dudok by Iwan Baan\"]',\n",
       " '[\"4380. Immortal: Lost Memoirs of Cornelia Dulac Concerning the Freshwater Polyp Hydra\",\\n\"79. Monique Besten – The Wanderer*\",\\n\"78. Gustafsson&Haapoja – Bud Book\",\\n\"77. Juan Hein – Clouds and Bombs*\",\\n\"84. Jörg Schmeisser Retrospective: Neverending Journeys\",\\n\"83. Ohara Koson: Paradise On Paper Where Flowers Bloom, Birds Sing\",\\n\"82. Rei Naito – Mirror Creation*\",\\n\"81. Tsuyoshi Hisakado – Practice of Spiral Practice of Spiral\"]',\n",
       " '[\"Goblins\",\\n\"The Cult of Water\",\\n\"Satan is Real: Two Short Stories\",\\n\"Empty Aphrodite: An Encyclopaedia of Fate\",\\n\"Bruce Hamana Sosei – 100 Beautiful Words in the Way of Tea\",\\n\"Aesthetics as Space\",\\n\"Errant Journal 1: Where are We?\",\\n\"Unpacking My Library\"]']"
      ]
     },
     "execution_count": 24,
     "metadata": {},
     "output_type": "execute_result"
    }
   ],
   "source": [
    "#Extracting Title information from each books for extracting data assuming we dont know amound of books in pdfs\n",
    "# Group documents by pages to extract information from each book page separately, preventing issues caused by excessively large contexts.\n",
    "titles_info = extract_titles_from_grouped_documents(pdf_documents)\n",
    "titles_info"
   ]
  },
  {
   "cell_type": "code",
   "execution_count": 25,
   "metadata": {},
   "outputs": [],
   "source": [
    "#Create list with books information\n",
    "book_name = combine_text_info(titles_info)"
   ]
  },
  {
   "cell_type": "code",
   "execution_count": 26,
   "metadata": {},
   "outputs": [
    {
     "name": "stderr",
     "output_type": "stream",
     "text": [
      "Processing books: 100%|██████████| 24/24 [24:11<00:00, 60.50s/book]\n"
     ]
    }
   ],
   "source": [
    "#Extracting information from each book base on list with books information\n",
    "extracted_info = extract_book_info(pdf_documents, book_name, new_vector_store)"
   ]
  },
  {
   "cell_type": "code",
   "execution_count": 33,
   "metadata": {},
   "outputs": [
    {
     "data": {
      "text/html": [
       "<div>\n",
       "<style scoped>\n",
       "    .dataframe tbody tr th:only-of-type {\n",
       "        vertical-align: middle;\n",
       "    }\n",
       "\n",
       "    .dataframe tbody tr th {\n",
       "        vertical-align: top;\n",
       "    }\n",
       "\n",
       "    .dataframe thead th {\n",
       "        text-align: right;\n",
       "    }\n",
       "</style>\n",
       "<table border=\"1\" class=\"dataframe\">\n",
       "  <thead>\n",
       "    <tr style=\"text-align: right;\">\n",
       "      <th></th>\n",
       "      <th>ISBN</th>\n",
       "      <th>City</th>\n",
       "      <th>Year</th>\n",
       "      <th>price</th>\n",
       "      <th>book_shop_id</th>\n",
       "      <th>pages</th>\n",
       "      <th>colour</th>\n",
       "      <th>size</th>\n",
       "      <th>language</th>\n",
       "    </tr>\n",
       "  </thead>\n",
       "  <tbody>\n",
       "    <tr>\n",
       "      <th>0</th>\n",
       "      <td>9789077745212</td>\n",
       "      <td>Antwerp</td>\n",
       "      <td>2020</td>\n",
       "      <td>15.50</td>\n",
       "      <td>20253</td>\n",
       "      <td>222</td>\n",
       "      <td>colour &amp; bw</td>\n",
       "      <td>17 x 21 cm</td>\n",
       "      <td>English</td>\n",
       "    </tr>\n",
       "    <tr>\n",
       "      <th>1</th>\n",
       "      <td>9788792700322</td>\n",
       "      <td>Copenhagen</td>\n",
       "      <td>2020</td>\n",
       "      <td>61.70</td>\n",
       "      <td>NaN</td>\n",
       "      <td>408</td>\n",
       "      <td>colour &amp; bw</td>\n",
       "      <td>23 x 33 cm</td>\n",
       "      <td>English</td>\n",
       "    </tr>\n",
       "    <tr>\n",
       "      <th>2</th>\n",
       "      <td>9788412162523</td>\n",
       "      <td>La Coruña</td>\n",
       "      <td>2020</td>\n",
       "      <td>25.20</td>\n",
       "      <td></td>\n",
       "      <td></td>\n",
       "      <td>colour &amp; bw</td>\n",
       "      <td>17 x 24 cm</td>\n",
       "      <td></td>\n",
       "    </tr>\n",
       "    <tr>\n",
       "      <th>3</th>\n",
       "      <td>9784907562212</td>\n",
       "      <td>Tokyo</td>\n",
       "      <td>2020</td>\n",
       "      <td>49.50</td>\n",
       "      <td>20247</td>\n",
       "      <td>304</td>\n",
       "      <td>colour &amp; bw</td>\n",
       "      <td>17 x 24 cm</td>\n",
       "      <td>Spanish/English</td>\n",
       "    </tr>\n",
       "    <tr>\n",
       "      <th>4</th>\n",
       "      <td>9788412162516</td>\n",
       "      <td>La Coruña</td>\n",
       "      <td>2020</td>\n",
       "      <td>25.20</td>\n",
       "      <td>20203</td>\n",
       "      <td></td>\n",
       "      <td></td>\n",
       "      <td></td>\n",
       "      <td></td>\n",
       "    </tr>\n",
       "    <tr>\n",
       "      <th>5</th>\n",
       "      <td>9788412162516</td>\n",
       "      <td>La Coruña</td>\n",
       "      <td>2020</td>\n",
       "      <td>25.20</td>\n",
       "      <td>20203</td>\n",
       "      <td>304</td>\n",
       "      <td>colour &amp; bw</td>\n",
       "      <td>17 x 24 cm</td>\n",
       "      <td>Spanish/English</td>\n",
       "    </tr>\n",
       "    <tr>\n",
       "      <th>6</th>\n",
       "      <td>9789895462049</td>\n",
       "      <td>Porto</td>\n",
       "      <td>2020</td>\n",
       "      <td>49.50</td>\n",
       "      <td></td>\n",
       "      <td>304</td>\n",
       "      <td>colour &amp; bw</td>\n",
       "      <td>17 x 24 cm</td>\n",
       "      <td>Spanish/English</td>\n",
       "    </tr>\n",
       "    <tr>\n",
       "      <th>7</th>\n",
       "      <td>9789895462049</td>\n",
       "      <td>Tel Aviv</td>\n",
       "      <td>2000</td>\n",
       "      <td>49.50</td>\n",
       "      <td>20161</td>\n",
       "      <td>52</td>\n",
       "      <td>colour &amp; bw</td>\n",
       "      <td>15 x 21 cm</td>\n",
       "      <td>Slovenian/English</td>\n",
       "    </tr>\n",
       "    <tr>\n",
       "      <th>8</th>\n",
       "      <td>9780648435594</td>\n",
       "      <td>Melbourne</td>\n",
       "      <td>2020</td>\n",
       "      <td>38.80</td>\n",
       "      <td></td>\n",
       "      <td>152</td>\n",
       "      <td>colour &amp; bw</td>\n",
       "      <td>24 x 28 cm</td>\n",
       "      <td>English</td>\n",
       "    </tr>\n",
       "    <tr>\n",
       "      <th>9</th>\n",
       "      <td>9789462085817</td>\n",
       "      <td>Rotterdam</td>\n",
       "      <td>2020</td>\n",
       "      <td>39.95</td>\n",
       "      <td></td>\n",
       "      <td>108</td>\n",
       "      <td>colour &amp; bw</td>\n",
       "      <td>22 x 30 cm</td>\n",
       "      <td>English</td>\n",
       "    </tr>\n",
       "  </tbody>\n",
       "</table>\n",
       "</div>"
      ],
      "text/plain": [
       "            ISBN        City  Year  price book_shop_id pages       colour  \\\n",
       "0  9789077745212     Antwerp  2020  15.50        20253   222  colour & bw   \n",
       "1  9788792700322  Copenhagen  2020  61.70          NaN   408  colour & bw   \n",
       "2  9788412162523   La Coruña  2020  25.20                     colour & bw   \n",
       "3  9784907562212       Tokyo  2020  49.50        20247   304  colour & bw   \n",
       "4  9788412162516   La Coruña  2020  25.20        20203                      \n",
       "5  9788412162516   La Coruña  2020  25.20        20203   304  colour & bw   \n",
       "6  9789895462049       Porto  2020  49.50                304  colour & bw   \n",
       "7  9789895462049    Tel Aviv  2000  49.50        20161    52  colour & bw   \n",
       "8  9780648435594   Melbourne  2020  38.80                152  colour & bw   \n",
       "9  9789462085817   Rotterdam  2020  39.95                108  colour & bw   \n",
       "\n",
       "         size           language  \n",
       "0  17 x 21 cm            English  \n",
       "1  23 x 33 cm            English  \n",
       "2  17 x 24 cm                     \n",
       "3  17 x 24 cm    Spanish/English  \n",
       "4                                 \n",
       "5  17 x 24 cm    Spanish/English  \n",
       "6  17 x 24 cm    Spanish/English  \n",
       "7  15 x 21 cm  Slovenian/English  \n",
       "8  24 x 28 cm            English  \n",
       "9  22 x 30 cm            English  "
      ]
     },
     "execution_count": 33,
     "metadata": {},
     "output_type": "execute_result"
    }
   ],
   "source": [
    "#Creating dataframe from extracted information \n",
    "extracted_df = create_dataframe_from_json_strings(extracted_info)\n",
    "extracted_df.head(10)"
   ]
  }
 ],
 "metadata": {
  "kernelspec": {
   "display_name": "Python 3",
   "language": "python",
   "name": "python3"
  },
  "language_info": {
   "codemirror_mode": {
    "name": "ipython",
    "version": 3
   },
   "file_extension": ".py",
   "mimetype": "text/x-python",
   "name": "python",
   "nbconvert_exporter": "python",
   "pygments_lexer": "ipython3",
   "version": "3.10.7"
  }
 },
 "nbformat": 4,
 "nbformat_minor": 2
}
