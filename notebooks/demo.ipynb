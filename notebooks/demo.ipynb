{
 "cells": [
  {
   "cell_type": "code",
   "execution_count": 10,
   "metadata": {},
   "outputs": [
    {
     "name": "stderr",
     "output_type": "stream",
     "text": [
      "C:\\Users\\skrge\\Documents\\GitHub\\llmtesting\\src\\embeddings.py:2: LangChainDeprecationWarning: As of langchain-core 0.3.0, LangChain uses pydantic v2 internally. The langchain_core.pydantic_v1 module was a compatibility shim for pydantic v1, and should no longer be used. Please update the code to import from Pydantic directly.\n",
      "\n",
      "For example, replace imports like: `from langchain_core.pydantic_v1 import BaseModel`\n",
      "with: `from pydantic import BaseModel`\n",
      "or the v1 compatibility namespace if you are working in a code base that has not been fully upgraded to pydantic 2 yet. \tfrom pydantic.v1 import BaseModel\n",
      "\n",
      "  from langchain_community.embeddings.ollama import OllamaEmbeddings\n"
     ]
    }
   ],
   "source": [
    "import os\n",
    "os.chdir(r'C:\\Users\\skrge\\Documents\\GitHub\\llmtesting')\n",
    "\n",
    "from src import *"
   ]
  },
  {
   "cell_type": "code",
   "execution_count": 1,
   "metadata": {},
   "outputs": [
    {
     "name": "stderr",
     "output_type": "stream",
     "text": [
      "C:\\Users\\skrge\\Documents\\GitHub\\llmtesting\\src\\embeddings.py:2: LangChainDeprecationWarning: As of langchain-core 0.3.0, LangChain uses pydantic v2 internally. The langchain_core.pydantic_v1 module was a compatibility shim for pydantic v1, and should no longer be used. Please update the code to import from Pydantic directly.\n",
      "\n",
      "For example, replace imports like: `from langchain_core.pydantic_v1 import BaseModel`\n",
      "with: `from pydantic import BaseModel`\n",
      "or the v1 compatibility namespace if you are working in a code base that has not been fully upgraded to pydantic 2 yet. \tfrom pydantic.v1 import BaseModel\n",
      "\n",
      "  from langchain_community.embeddings.ollama import OllamaEmbeddings\n"
     ]
    }
   ],
   "source": [
    "import os\n",
    "os.chdir(r'C:\\Users\\skrge\\Documents\\GitHub\\llmtesting')\n",
    "from src.file_uploader import upload_files\n",
    "from src.embedding_database import process_documents, faiss_vector_store\n",
    "from src.rag import *\n",
    "from src.Rag_preprocess import *"
   ]
  },
  {
   "cell_type": "code",
   "execution_count": 2,
   "metadata": {},
   "outputs": [],
   "source": [
    "data_dir = r'C:\\Users\\skrge\\Documents\\GitHub\\llmtesting\\data' #'path/to/your/files'\n",
    "docs = upload_files(data_dir) #upload pdf and csv  files from data_dir\n",
    "processed_docs = process_documents(docs) # add unique id to each document base on file name and time of upload\n",
    "new_vector_store = faiss_vector_store(processed_docs) #store the document vectors in a faiss index"
   ]
  },
  {
   "cell_type": "code",
   "execution_count": 33,
   "metadata": {},
   "outputs": [
    {
     "data": {
      "text/plain": [
       "(\"A Stephen King fan, eh? I've got a wealth of information about his books to share with you.\\n\\nStephen King is a prolific author known for his dark, suspenseful, and often terrifying stories. He has written over 60 novels and numerous short stories, many of which have been adapted into films and TV shows.\\n\\nLet me tell you about some of his notable works:\\n\\n1. **Cell** (2006): This novel tells the story of a graphic artist named Clay Riddell who finds himself in the midst of a mysterious apocalypse on October 1st. The book follows Clay as he navigates through a world where ordinary people are turning into monstrous creatures.\\n2. **Desperation** (1996): Set in the fictional town of Desperation, Nevada, this novel is about a group of strangers who find themselves trapped in a place with a dark and sinister history. The story revolves around a possessed young boy named John Coffey, who is accused of murder.\\n\\nBoth of these books have received high ratings on Goodreads, with **Cell** averaging 3.66/5 stars and **Desperation** at 3.85/5 stars.\\n\\nIf you're interested in exploring more of Stephen King's works, I'd be happy to recommend some other titles based on your preferences!\",\n",
       " ['sample_bookcsv.csv_row47_2025-01-25 15:06:02',\n",
       "  'sample_bookcsv.csv_row29_2025-01-25 15:06:02',\n",
       "  'sample_bookcsv.csv_row45_2025-01-25 15:06:02',\n",
       "  'sample_bookcsv.csv_row28_2025-01-25 15:06:02',\n",
       "  'sample_bookcsv.csv_row23_2025-01-25 15:06:02',\n",
       "  'sample_bookcsv.csv_row2_2025-01-25 15:06:02',\n",
       "  'sample_bookcsv.csv_row17_2025-01-25 15:06:02',\n",
       "  'sample_bookcsv.csv_row41_2025-01-25 15:06:02',\n",
       "  'sample_bookcsv.csv_row4_2025-01-25 15:06:02',\n",
       "  'sample_bookcsv.csv_row7_2025-01-25 15:06:02'])"
      ]
     },
     "execution_count": 33,
     "metadata": {},
     "output_type": "execute_result"
    }
   ],
   "source": [
    "query_rag_chat('tell me about Stephen Kings books?', new_vector_store)"
   ]
  },
  {
   "cell_type": "code",
   "execution_count": 4,
   "metadata": {},
   "outputs": [
    {
     "data": {
      "text/plain": [
       "('I\\'d be happy to help you find a horror with romance book. \\n\\nBased on your request, I\\'m going to suggest some books that combine elements of horror and romance. Keep in mind that these genres can blend together in various ways, so the level of emphasis on each may vary depending on the specific title.\\n\\n*   \"Joyland\" by Stephen King: This novel is a mystery, horror story, and coming-of-age tale set in a carnival in 1970s North Carolina. The protagonist, Devin Jones, gets involved with a group of young people who are being stalked by a serial killer. Along the way, he discovers his own desires and begins to grow up.\\n*   \"Marry Christmas\" by Linda Phillips: This romance novel tells the story of two people brought together during the holiday season. While it doesn\\'t contain explicit horror elements, it has a strong focus on relationships and personal growth.\\n*   \"A Perfect Persecution\" by James R. Lucas: This book is an intense and unsettling view of the future in light of our nation\\'s current stand on abortion. It combines elements of science fiction, romance, and horror to create a thought-provoking story.\\n*   \"Tender Is the Night\" by F. Scott Fitzgerald: Set in the late 1920s, this novel is a tragic romance that explores the complexities of relationships and personal identity.',\n",
       " ['sample_bookcsv.csv_row18_2025-01-25 14:39:01',\n",
       "  'sample_bookcsv.csv_row2_2025-01-25 14:39:01',\n",
       "  'sample_bookcsv.csv_row106_2025-01-25 14:39:01',\n",
       "  'sample_bookcsv.csv_row11_2025-01-25 14:39:01',\n",
       "  'sample_bookcsv.csv_row124_2025-01-25 14:39:01',\n",
       "  'sample_bookcsv.csv_row88_2025-01-25 14:39:01',\n",
       "  'sample_bookcsv.csv_row6_2025-01-25 14:39:01',\n",
       "  'sample_bookcsv.csv_row132_2025-01-25 14:39:01',\n",
       "  'sample_bookcsv.csv_row46_2025-01-25 14:39:01',\n",
       "  'sample_bookcsv.csv_row47_2025-01-25 14:39:01'])"
      ]
     },
     "execution_count": 4,
     "metadata": {},
     "output_type": "execute_result"
    }
   ],
   "source": [
    "query_rag_chat('i wanna read some horror with romance book, do u have any sugetions?', new_vector_store)"
   ]
  },
  {
   "cell_type": "code",
   "execution_count": 6,
   "metadata": {},
   "outputs": [
    {
     "data": {
      "text/plain": [
       "(\"Based on the provided context, here are the 5 most popular books, along with their names and some information about them:\\n\\n**1. The Mists of Avalon (Avalon, #1)**\\nBy: Marion Zimmer Bradley\\nRating: 4.13/5\\nRatings Count: 202,492\\nThis novel is a retelling of the King Arthur legend from the perspective of the women who wielded power in his life.\\n\\n**2. The Tales of Beedle the Bard**\\nBy: J.K. Rowling\\nRating: 4.05/5\\nRatings Count: 470,680\\nThis book contains five magical fairy tales that will delight and entertain readers of all ages.\\n\\n**3. Les Miserables**\\nBy: Claude-Michael Schonberg\\nRating: 4.44/5\\nRatings Count: 3,754\\nThis musical companion features arrangements for beginning pianists and includes popular songs from the Broadway production.\\n\\n**4. Shakespeare's Sonnets**\\nBy: William Shakespeare\\nRating: 4.22/5\\nRatings Count: 2,493\\nThis revised edition of Shakespeare's Sonnets explores the controversies and mysteries surrounding these beautiful poems.\\n\\n**5. Powers of Influence**\\nBy: Arey, Jordan\\nRating: 4.38/5\\nRatings Count: 16\\nThis book is a great read that will make you think, and is recommended for book clubs.\\n\\nPlease let me know if you'd like more information about any of these books!\",\n",
       " ['sample_bookcsv.csv_row111_2025-01-25 14:39:01',\n",
       "  'sample_bookcsv.csv_row23_2025-01-25 14:39:01',\n",
       "  'sample_bookcsv.csv_row123_2025-01-25 14:39:01',\n",
       "  'sample_bookcsv.csv_row78_2025-01-25 14:39:01',\n",
       "  'sample_bookcsv.csv_row80_2025-01-25 14:39:01',\n",
       "  'sample_bookcsv.csv_row133_2025-01-25 14:39:01',\n",
       "  'sample_bookcsv.csv_row11_2025-01-25 14:39:01',\n",
       "  'sample_bookcsv.csv_row130_2025-01-25 14:39:01',\n",
       "  'samplebookpdfsmall.pdf_page1:part4_2025-01-25 14:39:01',\n",
       "  'samplebookpdfsmall.pdf_page2:part14_2025-01-25 14:39:01'])"
      ]
     },
     "execution_count": 6,
     "metadata": {},
     "output_type": "execute_result"
    }
   ],
   "source": [
    "query_rag_chat('tell me about 5 most popular book i wanna their names firstly and than some info about them', new_vector_store)"
   ]
  },
  {
   "cell_type": "markdown",
   "metadata": {},
   "source": [
    "Book Classification"
   ]
  },
  {
   "cell_type": "code",
   "execution_count": 4,
   "metadata": {},
   "outputs": [],
   "source": [
    "csv_documents = [doc for doc in processed_docs if doc.metadata.get('source', '').endswith('.csv')]"
   ]
  },
  {
   "cell_type": "code",
   "execution_count": 5,
   "metadata": {},
   "outputs": [],
   "source": [
    "genres = ['Fiction', 'Classics', 'Nonfiction', 'Fantasy', 'Historical Fiction', 'Young Adult', 'Mystery', \n",
    "          'Romance', 'Literature', 'Contemporary', 'Novels', 'Audiobook', 'Thriller', 'Historical', 'Science Fiction', \n",
    "          'History', 'Adventure', 'Childrens', 'Philosophy', 'Biography', 'Crime', 'Self Help', 'Psychology', \n",
    "          'Mystery Thriller', 'Humor', 'Adult', 'Memoir', 'Horror', 'Science Fiction Fantasy', 'Suspense']"
   ]
  },
  {
   "cell_type": "code",
   "execution_count": 7,
   "metadata": {},
   "outputs": [
    {
     "data": {
      "text/plain": [
       "(\"The Heretic's Daughter\",\n",
       " 'Kathleen Kent',\n",
       " \"Martha Carrier was one of the first women to be accused, tried and hanged as a witch in Salem, Massachusetts. Like her mother, young Sarah Carrier is bright and willful, openly challenging the small, brutal world in which they live. Often at odds with one another, mother and daughter are forced to stand together against the escalating hysteria of the trials and the superstitious tyranny that led to the torture and imprisonment of more than 200 people accused of witchcraft. This is the story of Martha's courageous defiance and ultimate death, as told by the daughter who survived.Kathleen Kent is a tenth generation descendant of Martha Carrier. She paints a haunting portrait, not just of Puritan New England, but also of one family's deep and abiding love in the face of fear and persecution.\")"
      ]
     },
     "execution_count": 7,
     "metadata": {},
     "output_type": "execute_result"
    }
   ],
   "source": [
    "extract_relevant_info(csv_documents[20].page_content)"
   ]
  },
  {
   "cell_type": "code",
   "execution_count": null,
   "metadata": {},
   "outputs": [
    {
     "name": "stderr",
     "output_type": "stream",
     "text": [
      "Classifying Books: 100%|██████████| 51/51 [03:24<00:00,  4.02s/book]\n"
     ]
    }
   ],
   "source": [
    "classified_books = classify_books_from_docs(csv_documents, genres)"
   ]
  },
  {
   "cell_type": "code",
   "execution_count": 12,
   "metadata": {},
   "outputs": [
    {
     "data": {
      "text/html": [
       "<div>\n",
       "<style scoped>\n",
       "    .dataframe tbody tr th:only-of-type {\n",
       "        vertical-align: middle;\n",
       "    }\n",
       "\n",
       "    .dataframe tbody tr th {\n",
       "        vertical-align: top;\n",
       "    }\n",
       "\n",
       "    .dataframe thead th {\n",
       "        text-align: right;\n",
       "    }\n",
       "</style>\n",
       "<table border=\"1\" class=\"dataframe\">\n",
       "  <thead>\n",
       "    <tr style=\"text-align: right;\">\n",
       "      <th></th>\n",
       "      <th>Title</th>\n",
       "      <th>Author</th>\n",
       "      <th>Description</th>\n",
       "      <th>Genres</th>\n",
       "    </tr>\n",
       "  </thead>\n",
       "  <tbody>\n",
       "    <tr>\n",
       "      <th>0</th>\n",
       "      <td>Pygmalion</td>\n",
       "      <td>George Bernard Shaw</td>\n",
       "      <td>One of George Bernard Shaw's best-known plays,...</td>\n",
       "      <td>[Classics, Comedy, Literature]</td>\n",
       "    </tr>\n",
       "    <tr>\n",
       "      <th>1</th>\n",
       "      <td>The How of Happiness: A Scientific Approach to...</td>\n",
       "      <td>Sonja Lyubomirsky</td>\n",
       "      <td>An easy-to-follow, life-changing approach desi...</td>\n",
       "      <td>[Nonfiction, Self Help, Psychology]</td>\n",
       "    </tr>\n",
       "    <tr>\n",
       "      <th>2</th>\n",
       "      <td>Fables of the Reconstruction</td>\n",
       "      <td>Jez Jones</td>\n",
       "      <td>Secrets, fantasies, and desires mingle as an a...</td>\n",
       "      <td>[Romance, Erotic Fiction, Contemporary]</td>\n",
       "    </tr>\n",
       "    <tr>\n",
       "      <th>3</th>\n",
       "      <td>Capital: A Critique of Political Economy, Volu...</td>\n",
       "      <td>Karl Marx</td>\n",
       "      <td>Capital, one of Marx's major and most influent...</td>\n",
       "      <td>[Nonfiction, Classics]</td>\n",
       "    </tr>\n",
       "    <tr>\n",
       "      <th>4</th>\n",
       "      <td>Mudbound</td>\n",
       "      <td>Hillary Jordan</td>\n",
       "      <td>In Jordan's prize-winning debut, prejudice tak...</td>\n",
       "      <td>[Historical Fiction, Literature, Novels]</td>\n",
       "    </tr>\n",
       "  </tbody>\n",
       "</table>\n",
       "</div>"
      ],
      "text/plain": [
       "                                               Title               Author  \\\n",
       "0                                          Pygmalion  George Bernard Shaw   \n",
       "1  The How of Happiness: A Scientific Approach to...    Sonja Lyubomirsky   \n",
       "2                       Fables of the Reconstruction            Jez Jones   \n",
       "3  Capital: A Critique of Political Economy, Volu...            Karl Marx   \n",
       "4                                           Mudbound       Hillary Jordan   \n",
       "\n",
       "                                         Description  \\\n",
       "0  One of George Bernard Shaw's best-known plays,...   \n",
       "1  An easy-to-follow, life-changing approach desi...   \n",
       "2  Secrets, fantasies, and desires mingle as an a...   \n",
       "3  Capital, one of Marx's major and most influent...   \n",
       "4  In Jordan's prize-winning debut, prejudice tak...   \n",
       "\n",
       "                                     Genres  \n",
       "0            [Classics, Comedy, Literature]  \n",
       "1       [Nonfiction, Self Help, Psychology]  \n",
       "2   [Romance, Erotic Fiction, Contemporary]  \n",
       "3                    [Nonfiction, Classics]  \n",
       "4  [Historical Fiction, Literature, Novels]  "
      ]
     },
     "execution_count": 12,
     "metadata": {},
     "output_type": "execute_result"
    }
   ],
   "source": [
    "classified_books_df = classified_books_df(csv_documents, classified_books)\n",
    "classified_books_df.head(5)"
   ]
  },
  {
   "cell_type": "markdown",
   "metadata": {},
   "source": [
    "Pdf_info_extraction"
   ]
  },
  {
   "cell_type": "code",
   "execution_count": 3,
   "metadata": {},
   "outputs": [
    {
     "data": {
      "text/plain": [
       "49"
      ]
     },
     "execution_count": 3,
     "metadata": {},
     "output_type": "execute_result"
    }
   ],
   "source": [
    "pdf_documents = [doc for doc in processed_docs if doc.metadata.get('source', '').endswith('.pdf')]\n",
    "len(pdf_documents)"
   ]
  },
  {
   "cell_type": "code",
   "execution_count": 4,
   "metadata": {},
   "outputs": [
    {
     "name": "stderr",
     "output_type": "stream",
     "text": [
      "Processing Groups: 100%|██████████| 3/3 [01:44<00:00, 34.92s/group]\n"
     ]
    },
    {
     "data": {
      "text/plain": [
       "['[\"A Magazine\", \"MAK: The Architecture of Byoungsoo Cho*\", \\n\"Archives 7: Francisco Mangado*\", \"Archives 6: Solano Benítez & Gloria Cabral\", \\n\"Encounters with Plečnik\", \"Pitsou Kedem Architects – Works and Projects\", \\n\"Robin Boyd: Late Works*\", \"Dudok by Iwan Baan*\"]',\n",
       " '[\"Immortal: Lost Memoirs of Cornelia Dulac Concerning the Freshwater Polyp Hydra\",\\n \"The Wanderer*\",\\n \"Bud Book\",\\n \"Clouds and Bombs*\",\\n \"Jörg Schmeisser Retrospective: Neverending Journeys\",\\n \"Paradise On Paper Where Flowers Bloom, Birds Sing\",\\n \"Mirror Creation*\",\\n \"Practice of Spiral Practice of Spiral\"]',\n",
       " '[\"Goblins\",\\n\"The Cult of Water\",\\n\"Satan is Real: Two Short Stories\",\\n\"Empty Aphrodite: An Encyclopaedia of Fate\",\\n\"100 Beautiful Words in the Way of Tea\",\\n\"Aesthetics as Space\",\\n\"Errant Journal 1: Where are We?\",\\n\"Unpacking My Library\"]']"
      ]
     },
     "execution_count": 4,
     "metadata": {},
     "output_type": "execute_result"
    }
   ],
   "source": [
    "titles_info = extract_titles_from_grouped_documents(pdf_documents)\n",
    "titles_info"
   ]
  },
  {
   "cell_type": "code",
   "execution_count": 24,
   "metadata": {},
   "outputs": [
    {
     "name": "stdout",
     "output_type": "stream",
     "text": [
      "Error decoding JSON: [\"A Magazine Curated By\",\n",
      "\"A Magazine Curated By presents a survey of this exceptional building and its present function as a fashion atelier and corporate office\",\n",
      "\"MAK: The Architecture of Byoungsoo Cho*\",\n",
      "\"Archives 7: Francisco Mangado* C2C Editorial, La Coruña 2020\",\n",
      "\"Archives 6: Solano Benítez & Gloria Cabral\",\n",
      "\"Encounters with Plečnik\",\n",
      "\"Pitsou Kedem Architects – Works and Projects\",\n",
      "\"Robin Boyd: Late Works* URO Publications, Melbourne 2020\",\n",
      "\"Dudok by Iwan Baan*\"\n",
      "Error decoding JSON: [\"Immortal: Lost Memoirs of Cornelia Dulac Concerning the Freshwater Polyp Hydra\",\n",
      "\"The Wanderer*\",\n",
      "\"Bud Book\",\n",
      "\"Clouds and Bombs*\",\n",
      "\"Jörg Schmeisser Retrospective: Neverending Journeys\",\n",
      "\"Paradise On Paper Where Flowers Bloom, Birds Sing\",\n",
      "\"Mirror Creation*\",\n",
      "\"Spiral Practice of Spiral\",\n"
     ]
    }
   ],
   "source": [
    "book_name = combine_text_info(titles_info)"
   ]
  },
  {
   "cell_type": "code",
   "execution_count": 8,
   "metadata": {},
   "outputs": [
    {
     "name": "stderr",
     "output_type": "stream",
     "text": [
      "Processing books: 100%|██████████| 24/24 [25:42<00:00, 64.28s/book]\n"
     ]
    }
   ],
   "source": [
    "extracted_info = extract_book_info(pdf_documents, book_name, new_vector_store)"
   ]
  },
  {
   "cell_type": "code",
   "execution_count": 12,
   "metadata": {},
   "outputs": [
    {
     "data": {
      "text/html": [
       "<div>\n",
       "<style scoped>\n",
       "    .dataframe tbody tr th:only-of-type {\n",
       "        vertical-align: middle;\n",
       "    }\n",
       "\n",
       "    .dataframe tbody tr th {\n",
       "        vertical-align: top;\n",
       "    }\n",
       "\n",
       "    .dataframe thead th {\n",
       "        text-align: right;\n",
       "    }\n",
       "</style>\n",
       "<table border=\"1\" class=\"dataframe\">\n",
       "  <thead>\n",
       "    <tr style=\"text-align: right;\">\n",
       "      <th></th>\n",
       "      <th>Full_title</th>\n",
       "      <th>City</th>\n",
       "      <th>Year</th>\n",
       "      <th>ISBN</th>\n",
       "      <th>price</th>\n",
       "      <th>book_shop_id</th>\n",
       "      <th>pages</th>\n",
       "      <th>colour</th>\n",
       "      <th>size</th>\n",
       "      <th>language</th>\n",
       "    </tr>\n",
       "  </thead>\n",
       "  <tbody>\n",
       "    <tr>\n",
       "      <th>0</th>\n",
       "      <td>A Magazine, Antwerp 2020 : With the launch of ...</td>\n",
       "      <td>Antwerp</td>\n",
       "      <td>2020</td>\n",
       "      <td>9789077745212</td>\n",
       "      <td>15.50</td>\n",
       "      <td></td>\n",
       "      <td>222</td>\n",
       "      <td>colour &amp; bw</td>\n",
       "      <td>17 x 21 cm</td>\n",
       "      <td>English</td>\n",
       "    </tr>\n",
       "    <tr>\n",
       "      <th>1</th>\n",
       "      <td>19. MAK: The Architecture of Byoungsoo Cho*</td>\n",
       "      <td>Copenhagen</td>\n",
       "      <td>2020</td>\n",
       "      <td>9788792700322</td>\n",
       "      <td>61.70</td>\n",
       "      <td></td>\n",
       "      <td>408</td>\n",
       "      <td>colour &amp; bw</td>\n",
       "      <td>23 x 33 cm</td>\n",
       "      <td>English</td>\n",
       "    </tr>\n",
       "    <tr>\n",
       "      <th>2</th>\n",
       "      <td>Francisco Mangado is a well-known architect; s...</td>\n",
       "      <td>La Coruña</td>\n",
       "      <td>2020</td>\n",
       "      <td>9788412162523</td>\n",
       "      <td>25.20</td>\n",
       "      <td></td>\n",
       "      <td></td>\n",
       "      <td>colour &amp; bw</td>\n",
       "      <td>17 x 24 cm</td>\n",
       "      <td></td>\n",
       "    </tr>\n",
       "    <tr>\n",
       "      <th>3</th>\n",
       "      <td>Appearing on the occasion of Tsuyoshi Hisakado...</td>\n",
       "      <td>Tokyo</td>\n",
       "      <td>2020</td>\n",
       "      <td>9784907562212</td>\n",
       "      <td>49.50</td>\n",
       "      <td>20247</td>\n",
       "      <td>304</td>\n",
       "      <td>colour &amp; bw</td>\n",
       "      <td>17 x 24 cm</td>\n",
       "      <td>Spanish/English</td>\n",
       "    </tr>\n",
       "    <tr>\n",
       "      <th>4</th>\n",
       "      <td>Solano Benítez founded Gabinete de Arquitectur...</td>\n",
       "      <td>La Coruña</td>\n",
       "      <td>2020</td>\n",
       "      <td>9788412162516</td>\n",
       "      <td>25.20</td>\n",
       "      <td>20203</td>\n",
       "      <td></td>\n",
       "      <td></td>\n",
       "      <td></td>\n",
       "      <td></td>\n",
       "    </tr>\n",
       "    <tr>\n",
       "      <th>5</th>\n",
       "      <td>Bringing together his forgotten works, numerou...</td>\n",
       "      <td>La Coruña</td>\n",
       "      <td>2020</td>\n",
       "      <td>9788412162516</td>\n",
       "      <td>25.20</td>\n",
       "      <td>20203</td>\n",
       "      <td>304</td>\n",
       "      <td>colour &amp; bw</td>\n",
       "      <td>17 x 24 cm</td>\n",
       "      <td>Spanish/English</td>\n",
       "    </tr>\n",
       "    <tr>\n",
       "      <th>6</th>\n",
       "      <td>Playing with Fire (Skulduggery Pleasant, #2)</td>\n",
       "      <td>Porto</td>\n",
       "      <td>2020</td>\n",
       "      <td>9789895462049</td>\n",
       "      <td>49.50</td>\n",
       "      <td></td>\n",
       "      <td>304</td>\n",
       "      <td>color &amp; bw</td>\n",
       "      <td>17 x 24 cm</td>\n",
       "      <td>Spanish/English</td>\n",
       "    </tr>\n",
       "    <tr>\n",
       "      <th>7</th>\n",
       "      <td>Pitsou Kedem Architects – Works and Projects</td>\n",
       "      <td>Tel Aviv</td>\n",
       "      <td>2000</td>\n",
       "      <td>9789895462049</td>\n",
       "      <td>49.50</td>\n",
       "      <td>20161</td>\n",
       "      <td>52</td>\n",
       "      <td>ills colour &amp; bw</td>\n",
       "      <td>15 x 21 cm</td>\n",
       "      <td>Slovenian/English</td>\n",
       "    </tr>\n",
       "    <tr>\n",
       "      <th>8</th>\n",
       "      <td>Robin Boyd: Late Works</td>\n",
       "      <td>Melbourne</td>\n",
       "      <td>2020</td>\n",
       "      <td>9780648435594</td>\n",
       "      <td>38.80</td>\n",
       "      <td></td>\n",
       "      <td>152</td>\n",
       "      <td>colour &amp; bw</td>\n",
       "      <td>24 x 28 cm</td>\n",
       "      <td>English</td>\n",
       "    </tr>\n",
       "    <tr>\n",
       "      <th>9</th>\n",
       "      <td>Dudok by Iwan Baan* nai010 Publishers, Rotterd...</td>\n",
       "      <td>Rotterdam</td>\n",
       "      <td>2020</td>\n",
       "      <td>9789462085817</td>\n",
       "      <td>39.95</td>\n",
       "      <td></td>\n",
       "      <td>108</td>\n",
       "      <td>colour &amp; bw</td>\n",
       "      <td>22 x 30 cm</td>\n",
       "      <td>English</td>\n",
       "    </tr>\n",
       "  </tbody>\n",
       "</table>\n",
       "</div>"
      ],
      "text/plain": [
       "                                          Full_title        City  Year  \\\n",
       "0  A Magazine, Antwerp 2020 : With the launch of ...     Antwerp  2020   \n",
       "1        19. MAK: The Architecture of Byoungsoo Cho*  Copenhagen  2020   \n",
       "2  Francisco Mangado is a well-known architect; s...   La Coruña  2020   \n",
       "3  Appearing on the occasion of Tsuyoshi Hisakado...       Tokyo  2020   \n",
       "4  Solano Benítez founded Gabinete de Arquitectur...   La Coruña  2020   \n",
       "5  Bringing together his forgotten works, numerou...   La Coruña  2020   \n",
       "6       Playing with Fire (Skulduggery Pleasant, #2)       Porto  2020   \n",
       "7       Pitsou Kedem Architects – Works and Projects    Tel Aviv  2000   \n",
       "8                             Robin Boyd: Late Works   Melbourne  2020   \n",
       "9  Dudok by Iwan Baan* nai010 Publishers, Rotterd...   Rotterdam  2020   \n",
       "\n",
       "            ISBN  price book_shop_id pages            colour        size  \\\n",
       "0  9789077745212  15.50                222       colour & bw  17 x 21 cm   \n",
       "1  9788792700322  61.70                408       colour & bw  23 x 33 cm   \n",
       "2  9788412162523  25.20                          colour & bw  17 x 24 cm   \n",
       "3  9784907562212  49.50        20247   304       colour & bw  17 x 24 cm   \n",
       "4  9788412162516  25.20        20203                                       \n",
       "5  9788412162516  25.20        20203   304       colour & bw  17 x 24 cm   \n",
       "6  9789895462049  49.50                304        color & bw  17 x 24 cm   \n",
       "7  9789895462049  49.50        20161    52  ills colour & bw  15 x 21 cm   \n",
       "8  9780648435594  38.80                152       colour & bw  24 x 28 cm   \n",
       "9  9789462085817  39.95                108       colour & bw  22 x 30 cm   \n",
       "\n",
       "            language  \n",
       "0            English  \n",
       "1            English  \n",
       "2                     \n",
       "3    Spanish/English  \n",
       "4                     \n",
       "5    Spanish/English  \n",
       "6    Spanish/English  \n",
       "7  Slovenian/English  \n",
       "8            English  \n",
       "9            English  "
      ]
     },
     "execution_count": 12,
     "metadata": {},
     "output_type": "execute_result"
    }
   ],
   "source": [
    "extracted_df = create_dataframe_from_json_strings(extracted_info)\n",
    "extracted_df.head(10)"
   ]
  }
 ],
 "metadata": {
  "kernelspec": {
   "display_name": "Python 3",
   "language": "python",
   "name": "python3"
  },
  "language_info": {
   "codemirror_mode": {
    "name": "ipython",
    "version": 3
   },
   "file_extension": ".py",
   "mimetype": "text/x-python",
   "name": "python",
   "nbconvert_exporter": "python",
   "pygments_lexer": "ipython3",
   "version": "3.10.7"
  }
 },
 "nbformat": 4,
 "nbformat_minor": 2
}
