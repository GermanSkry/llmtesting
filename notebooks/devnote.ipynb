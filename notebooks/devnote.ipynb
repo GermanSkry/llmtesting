{
 "cells": [
  {
   "cell_type": "code",
   "execution_count": 1,
   "metadata": {},
   "outputs": [],
   "source": [
    "import os\n",
    "from langchain_community.document_loaders import TextLoader, JSONLoader, CSVLoader, PyPDFLoader\n",
    "from typing import List, Union"
   ]
  },
  {
   "cell_type": "code",
   "execution_count": 16,
   "metadata": {},
   "outputs": [],
   "source": [
    "directory = 'C:/Users/skrge/Documents/GitHub/llmtesting/data'"
   ]
  },
  {
   "cell_type": "code",
   "execution_count": 18,
   "metadata": {},
   "outputs": [],
   "source": [
    "def load_txt_files(directory: str) -> List[str]:\n",
    "    \"\"\"\n",
    "    Load and return the content of all TXT files in the given directory.\n",
    "    \"\"\"\n",
    "    documents = []\n",
    "    for file_name in os.listdir(directory):\n",
    "        if file_name.endswith(\".txt\"):\n",
    "            file_path = os.path.join(directory, file_name)\n",
    "            loader = TextLoader(file_path)\n",
    "            documents.extend(loader.load())\n",
    "    return documents"
   ]
  },
  {
   "cell_type": "code",
   "execution_count": 19,
   "metadata": {},
   "outputs": [],
   "source": [
    "def load_json_files(directory: str) -> List[str]:\n",
    "    \"\"\"\n",
    "    Load and return the content of all JSON files in the given directory.\n",
    "    \"\"\"\n",
    "    documents = []\n",
    "    for file_name in os.listdir(directory):\n",
    "        if file_name.endswith(\".json\"):\n",
    "            file_path = os.path.join(directory, file_name)\n",
    "            loader = JSONLoader(file_path)\n",
    "            documents.extend(loader.load())\n",
    "    return documents"
   ]
  },
  {
   "cell_type": "code",
   "execution_count": 14,
   "metadata": {},
   "outputs": [],
   "source": [
    "def load_csv_files(directory: str) -> List[str]:\n",
    "    \"\"\"\n",
    "    Load and return the content of all CSV files in the given directory.\n",
    "    \"\"\"\n",
    "    documents = []\n",
    "    for file_name in os.listdir(directory):\n",
    "        if file_name.endswith(\".csv\"):\n",
    "            file_path = os.path.join(directory, file_name)\n",
    "            loader = CSVLoader(file_path)\n",
    "            documents.extend(loader.load())\n",
    "    return documents"
   ]
  },
  {
   "cell_type": "code",
   "execution_count": 21,
   "metadata": {},
   "outputs": [],
   "source": [
    "def load_pdf_files(directory: str) -> List[str]:\n",
    "    \"\"\"\n",
    "    Load and return the content of all PDF files in the given directory.\n",
    "    \"\"\"\n",
    "    documents = []\n",
    "    for file_name in os.listdir(directory):\n",
    "        if file_name.endswith(\".pdf\"):\n",
    "            file_path = os.path.join(directory, file_name)\n",
    "            loader = PyPDFLoader(file_path)\n",
    "            documents.extend(loader.load())\n",
    "    return documents"
   ]
  },
  {
   "cell_type": "code",
   "execution_count": 22,
   "metadata": {},
   "outputs": [],
   "source": [
    "def upload_files(directory: str) -> List[str]:\n",
    "    \"\"\"\n",
    "    Upload all supported file types from a given directory and return their content.\n",
    "    \"\"\"\n",
    "    supported_loaders = {\n",
    "        \"txt\": load_txt_files,\n",
    "        \"json\": load_json_files,\n",
    "        \"csv\": load_csv_files,\n",
    "        \"pdf\": load_pdf_files\n",
    "    }\n",
    "    documents = []\n",
    "\n",
    "    for ext, loader_func in supported_loaders.items():\n",
    "        documents.extend(loader_func(directory))\n",
    "\n",
    "    return documents"
   ]
  },
  {
   "cell_type": "code",
   "execution_count": 35,
   "metadata": {},
   "outputs": [],
   "source": [
    "docs = load_pdf_files(directory)"
   ]
  }
 ],
 "metadata": {
  "kernelspec": {
   "display_name": "Python 3",
   "language": "python",
   "name": "python3"
  },
  "language_info": {
   "codemirror_mode": {
    "name": "ipython",
    "version": 3
   },
   "file_extension": ".py",
   "mimetype": "text/x-python",
   "name": "python",
   "nbconvert_exporter": "python",
   "pygments_lexer": "ipython3",
   "version": "3.10.7"
  }
 },
 "nbformat": 4,
 "nbformat_minor": 2
}
